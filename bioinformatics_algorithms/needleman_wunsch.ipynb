{
 "cells": [
  {
   "cell_type": "code",
   "execution_count": 6,
   "metadata": {},
   "outputs": [],
   "source": [
    "import numpy as np"
   ]
  },
  {
   "cell_type": "code",
   "execution_count": 52,
   "metadata": {},
   "outputs": [],
   "source": [
    "# seq = input()"
   ]
  },
  {
   "cell_type": "code",
   "execution_count": 8,
   "metadata": {},
   "outputs": [],
   "source": [
    "# seq1 = seq.split()[0]\n",
    "# seq2= seq.split()[1]"
   ]
  },
  {
   "cell_type": "code",
   "execution_count": 44,
   "metadata": {},
   "outputs": [],
   "source": [
    "seq1 = 'ACTTCGACT'\n",
    "seq2 = 'GATCGAAT'"
   ]
  },
  {
   "cell_type": "code",
   "execution_count": 53,
   "metadata": {},
   "outputs": [
    {
     "name": "stdout",
     "output_type": "stream",
     "text": [
      "[[ 3. -3. -2. -1.]\n",
      " [-3.  4. -1.  2.]\n",
      " [-2. -1.  5.  0.]\n",
      " [-1.  2.  0.  6.]]\n"
     ]
    }
   ],
   "source": [
    "match_score = np.zeros((4, 4))\n",
    "match_score[0][0] = 3\n",
    "match_score[0][1] = match_score[1][0] = -3\n",
    "match_score[0][2] = match_score[2][0] = -2\n",
    "match_score[0][3] = match_score[3][0] = -1\n",
    "match_score[1][1] = 4\n",
    "match_score[1][2] = match_score[2][1] = -1\n",
    "match_score[1][3] = match_score[3][1] = 2\n",
    "match_score[2][2] = 5\n",
    "match_score[2][3] = match_score[3][2] = 0\n",
    "match_score[3][3] = 6\n",
    "print(match_score)"
   ]
  },
  {
   "cell_type": "code",
   "execution_count": 54,
   "metadata": {},
   "outputs": [],
   "source": [
    "letters = {\"A\" : 0, \"T\" : 1, \"C\" : 2, \"G\" : 3}"
   ]
  },
  {
   "cell_type": "code",
   "execution_count": 55,
   "metadata": {},
   "outputs": [],
   "source": [
    "# def match_score(seq1, seq2):\n",
    "#     if seq1 == seq2:\n",
    "#         return 1\n",
    "#     elif seq1 == '_' or seq2 == '_':\n",
    "#         return -1\n",
    "#     else:\n",
    "#         return -1"
   ]
  },
  {
   "cell_type": "code",
   "execution_count": 56,
   "metadata": {},
   "outputs": [],
   "source": [
    "def global_alignment(seq1, seq2):\n",
    "    n = len(seq1)  \n",
    "    m = len(seq2)\n",
    "    mismatch_penalty = -1\n",
    "    gap_penalty = -1\n",
    "    score = np.zeros((m+1, n+1))\n",
    "    \n",
    "    for i in range(m + 1):\n",
    "        score[i][0] = gap_penalty * i\n",
    "\n",
    "    for j in range(n + 1):\n",
    "        score[0][j] = gap_penalty * j\n",
    "    \n",
    "    for i in range(1, m + 1):\n",
    "        for j in range(1, n + 1):\n",
    "            match = score[i - 1][j - 1] + match_score[letters[seq1[j-1]]][letters[seq2[i-1]]]\n",
    "            delete = score[i - 1][j] + gap_penalty\n",
    "            insert = score[i][j - 1] + gap_penalty\n",
    "            score[i][j] = max(match, delete, insert)\n",
    "            \n",
    "    align1 = \"\"\n",
    "    align2 = \"\"\n",
    "    i = m\n",
    "    j = n\n",
    "\n",
    "    while i > 0 and j > 0:\n",
    "        score_current = score[i][j]\n",
    "        score_diagonal = score[i-1][j-1]\n",
    "        score_up = score[i][j-1]\n",
    "        score_left = score[i-1][j]\n",
    "        \n",
    "        if score_current == score_diagonal + match_score[letters[seq1[j-1]]][letters[seq2[i-1]]]:\n",
    "            align1 += seq1[j-1]\n",
    "            align2 += seq2[i-1]\n",
    "            i -= 1\n",
    "            j -= 1\n",
    "        elif score_current == score_up + gap_penalty:\n",
    "            align1 += seq1[j-1]\n",
    "            align2 += '_'\n",
    "            j -= 1\n",
    "        elif score_current == score_left + gap_penalty:\n",
    "            align1 += '_'\n",
    "            align2 += seq2[i-1]\n",
    "            i -= 1\n",
    "\n",
    "    while j > 0:\n",
    "        align1 += seq1[j-1]\n",
    "        align2 += '_'\n",
    "        j -= 1\n",
    "    while i > 0:\n",
    "        align1 += '_'\n",
    "        align2 += seq2[i-1]\n",
    "        i -= 1\n",
    "    \n",
    "    return (align1[::-1], align2[::-1])"
   ]
  },
  {
   "cell_type": "code",
   "execution_count": 57,
   "metadata": {},
   "outputs": [
    {
     "name": "stdout",
     "output_type": "stream",
     "text": [
      "_ACTTCGACT GA__TCGAAT\n"
     ]
    }
   ],
   "source": [
    "align1, align2 = global_alignment(seq1, seq2)\n",
    "print(align1 + \" \" + align2)"
   ]
  },
  {
   "cell_type": "markdown",
   "metadata": {},
   "source": [
    "Поменяем одно число в матрице"
   ]
  },
  {
   "cell_type": "code",
   "execution_count": 58,
   "metadata": {},
   "outputs": [],
   "source": [
    "match_score[3][0] = 10"
   ]
  },
  {
   "cell_type": "code",
   "execution_count": 59,
   "metadata": {},
   "outputs": [
    {
     "name": "stdout",
     "output_type": "stream",
     "text": [
      "_ACTTC_GACT GA__TCGAA_T\n"
     ]
    }
   ],
   "source": [
    "align1, align2 = global_alignment(seq1, seq2)\n",
    "print(align1 + \" \" + align2)"
   ]
  },
  {
   "cell_type": "markdown",
   "metadata": {},
   "source": [
    "Выравнивание поменялось"
   ]
  }
 ],
 "metadata": {
  "kernelspec": {
   "display_name": "Python 3",
   "language": "python",
   "name": "python3"
  },
  "language_info": {
   "codemirror_mode": {
    "name": "ipython",
    "version": 3
   },
   "file_extension": ".py",
   "mimetype": "text/x-python",
   "name": "python",
   "nbconvert_exporter": "python",
   "pygments_lexer": "ipython3",
   "version": "3.6.9"
  }
 },
 "nbformat": 4,
 "nbformat_minor": 4
}
